{
 "cells": [
  {
   "cell_type": "markdown",
   "metadata": {},
   "source": [
    "# 一、使用Scipy包求解简单的线性规划 "
   ]
  },
  {
   "cell_type": "markdown",
   "metadata": {},
   "source": [
    "**提前用conda或pip装好numpy和scipy**"
   ]
  },
  {
   "cell_type": "code",
   "execution_count": 1,
   "metadata": {},
   "outputs": [],
   "source": [
    "import numpy as np\n",
    "from scipy import optimize as op\n",
    "\n",
    "#z为目标函数各项系数，默认求解最小值min， 如果需要求最大值max，res里 z 改为 -z 。\n",
    "z = np.array([-3,1,1])\n",
    "\n",
    "# 添加不等式约束： A_ub 和 b_ub\n",
    "# 默认所有约束条件都为≤，如果有≥的不等式, A_ub 和 b_ub同时加负号。\n",
    "# A_ub 是不等式约束各变量的系数；b_ub 是不等式约束“≤”右边的值\n",
    "A_ub = np.array([[1, -2, 1], [4, -1, -2]])\n",
    "b_ub = np.array([11, -3])\n",
    "\n",
    "#添加等式约束： A_eq 和 b_eq\n",
    "A_eq = np.array([[-2,0,1]])\n",
    "b_eq = np.array([1])\n",
    "\n",
    "#给定各变量的范围，None即无边界\n",
    "x1_bound = x2_bound = x3_bound =(0, None)"
   ]
  },
  {
   "cell_type": "code",
   "execution_count": 2,
   "metadata": {},
   "outputs": [
    {
     "name": "stdout",
     "output_type": "stream",
     "text": [
      "     con: array([3.6343728e-10])\n",
      "     fun: -1.9999999989417176\n",
      " message: 'Optimization terminated successfully.'\n",
      "     nit: 5\n",
      "   slack: array([3.23578142e-09, 6.65938416e-10])\n",
      "  status: 0\n",
      " success: True\n",
      "       x: array([4., 1., 9.])\n"
     ]
    }
   ],
   "source": [
    "#需要改，用到哪几个变量范围 bounds=(..., ..., ..., )\n",
    "res = op.linprog(z, A_ub, b_ub, A_eq, b_eq, bounds=(x1_bound, x2_bound, x3_bound))\n",
    "\n",
    "#输出的fun为目标函数最值，x为最优解\n",
    "print(res)"
   ]
  },
  {
   "cell_type": "code",
   "execution_count": 1,
   "metadata": {},
   "outputs": [
    {
     "name": "stdout",
     "output_type": "stream",
     "text": [
      "     con: array([1.12991305e-09])\n",
      "     fun: -17.399999996177534\n",
      " message: 'Optimization terminated successfully.'\n",
      "     nit: 4\n",
      "   slack: array([6.96564584e-10, 5.00000000e+00])\n",
      "  status: 0\n",
      " success: True\n",
      "       x: array([1.80000000e+00, 3.99578382e-10, 5.20000000e+00])\n"
     ]
    }
   ],
   "source": [
    "import numpy as np\n",
    "from scipy import optimize as op\n",
    "\n",
    "#默认求解最小值min， 如果需要求最大值max，res里 z 改为 -z 。\n",
    "z = np.array([-1,2,-3])\n",
    "\n",
    "# 不等式约束： A_ub 和 b_ub\n",
    "# 默认所有约束条件都为≤，如果有≥的不等式, A_ub 和 b_ub同时加负号。\n",
    "# A_ub 是不等式约束各变量的系数；b_ub 是不等式约束“≤”右边的值\n",
    "A_ub = np.array([[1, 1, 1], [-1, 1, -1]])\n",
    "b_ub = np.array([7, -2])\n",
    "\n",
    "#等式约束： A_eq 和 b_eq\n",
    "A_eq = np.array([[-3,1,2]])\n",
    "b_eq = np.array([5])\n",
    "\n",
    "#给定各变量的范围，None即无边界\n",
    "x1_bound = x2_bound  =(0, None)\n",
    "x3_bound =(None, None)\n",
    "\n",
    "#下面这句只需要改 bounds=(..., ..., ..., )\n",
    "res = op.linprog(z, A_ub, b_ub, A_eq, b_eq, bounds=(x1_bound, x2_bound, x3_bound))\n",
    "\n",
    "#输出的fun为目标函数最值，x为最优解\n",
    "print(res)"
   ]
  },
  {
   "cell_type": "markdown",
   "metadata": {},
   "source": [
    "# 二、使用Pulp包求解简单的线性规划 "
   ]
  },
  {
   "cell_type": "markdown",
   "metadata": {},
   "source": [
    "**提前用conda或pip装好pulp**"
   ]
  },
  {
   "cell_type": "code",
   "execution_count": 18,
   "metadata": {},
   "outputs": [],
   "source": [
    "import pulp\n",
    "\n",
    "#目标函数z的系数\n",
    "z = [-1,2,-3]\n",
    "\n",
    "#不等式约束条件，也要转化为 ≤的形式\n",
    "A_ub = [[1, 1, 1], [-1, 1, -1]]\n",
    "b_ub = [7, -2]\n",
    "\n",
    "#等式约束条件\n",
    "A_eq = [[-3,1,2]]\n",
    "b_eq = [5]"
   ]
  },
  {
   "cell_type": "code",
   "execution_count": 23,
   "metadata": {},
   "outputs": [
    {
     "name": "stdout",
     "output_type": "stream",
     "text": [
      "z: -17.400000000000002\n",
      "x1: 1.8\n",
      "x2: 0.0\n",
      "x3: 5.2\n"
     ]
    }
   ],
   "source": [
    "#首先，定义一个问题，第一个参数为问题名称，\n",
    "#第二个参数sense，可决定优化的是最大值 pulp.LpMaximize 还是最小值 pulp.LpMinimize\n",
    "prob = pulp.LpProblem('problem2', sense=pulp.LpMinimize)\n",
    "\n",
    "#第二，定义变量，pulp.LpVariable(\"变量名\" ,下界 ,上界, cat表示变量类型，\n",
    "# pulp.LpInteger是离散，pulp.LpBinary为二值，pulp.LpContinuous是连续 )\n",
    "x1 = pulp.LpVariable('x1', lowBound=0, upBound=None, cat=pulp.LpContinuous)\n",
    "x2 = pulp.LpVariable('x2', lowBound=0, upBound=None, cat=pulp.LpContinuous)\n",
    "x3 = pulp.LpVariable('x3', lowBound=None, upBound=None, cat=pulp.LpContinuous)\n",
    "x = [x1,x2,x3]\n",
    "\n",
    "#然后，添加目标函数\n",
    "prob += pulp.lpDot(z, x) \n",
    "\n",
    "#再添加不等式约束条件(让问题 prob 直接加变量的判断式即可添加约束)\n",
    "for i in range(len(A_ub)):\n",
    "    prob += (pulp.lpDot(A_ub[i], x) <= b_ub[i])\n",
    "\n",
    "#再添加等式约束条件(让问题 prob 直接加变量的判断式即可添加约束)\n",
    "for i in range(len(A_eq)):\n",
    "    prob += (pulp.lpDot(A_eq[i], x) == b_eq[i])\n",
    "    \n",
    "#调用solve方法解出答案\n",
    "prob.solve()\n",
    "\n",
    "#\n",
    "print(\"z:\", pulp.value(prob.objective))\n",
    "print(\"x1:\",pulp.value(x1))\n",
    "print(\"x2:\",pulp.value(x2))\n",
    "print(\"x3:\",pulp.value(x3))\n"
   ]
  },
  {
   "cell_type": "code",
   "execution_count": null,
   "metadata": {},
   "outputs": [],
   "source": []
  }
 ],
 "metadata": {
  "kernelspec": {
   "display_name": "Python 3 (ipykernel)",
   "language": "python",
   "name": "python3"
  },
  "language_info": {
   "codemirror_mode": {
    "name": "ipython",
    "version": 3
   },
   "file_extension": ".py",
   "mimetype": "text/x-python",
   "name": "python",
   "nbconvert_exporter": "python",
   "pygments_lexer": "ipython3",
   "version": "3.8.5"
  }
 },
 "nbformat": 4,
 "nbformat_minor": 4
}
